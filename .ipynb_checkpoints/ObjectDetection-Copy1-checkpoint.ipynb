{
 "cells": [
  {
   "cell_type": "markdown",
   "metadata": {
    "colab_type": "text",
    "id": "EisXWcbiqe1j"
   },
   "source": [
    "### Import Libraries"
   ]
  },
  {
   "cell_type": "code",
   "execution_count": 0,
   "metadata": {
    "colab": {
     "autoexec": {
      "startup": false,
      "wait_interval": 0
     }
    },
    "colab_type": "code",
    "id": "HDcWflRhqe1m"
   },
   "outputs": [],
   "source": [
    "import cv2\n",
    "import os\n",
    "import sys\n",
    "import glob\n",
    "import shutil as sutl\n",
    "import numpy as np\n",
    "import random as rn\n",
    "import pandas as pd\n",
    "import matplotlib.pyplot as plt\n",
    "%matplotlib inline\n",
    "from PIL import Image\n",
    "#import imutils as imutl\n",
    "from pathlib import Path\n",
    "\n",
    "from skimage import filters\n",
    "from skimage import io\n",
    "from scipy import ndimage as ndi\n",
    "from skimage import morphology"
   ]
  },
  {
   "cell_type": "markdown",
   "metadata": {
    "colab_type": "text",
    "id": "DSV4-AtDqe1s"
   },
   "source": [
    "### Set Data and Template directory paths"
   ]
  },
  {
   "cell_type": "code",
   "execution_count": 0,
   "metadata": {
    "colab": {
     "autoexec": {
      "startup": false,
      "wait_interval": 0
     }
    },
    "colab_type": "code",
    "id": "-CIXU3lzqe1v"
   },
   "outputs": [],
   "source": [
    "data_dir = '/media/psf/ai/data/object/'\n",
    "image_dir = data_dir \n"
   ]
  },
  {
   "cell_type": "markdown",
   "metadata": {
    "colab_type": "text",
    "id": "z38FAvSHqe1z"
   },
   "source": [
    "### Set Image file extensions"
   ]
  },
  {
   "cell_type": "code",
   "execution_count": 0,
   "metadata": {
    "colab": {
     "autoexec": {
      "startup": false,
      "wait_interval": 0
     }
    },
    "colab_type": "code",
    "id": "a8PaXN2Bqe10"
   },
   "outputs": [],
   "source": [
    "image_extension = ['.png', '.jpg', '.jpeg', '.bmp', '.tiff', '.gif', '.pcx', '.gif']"
   ]
  },
  {
   "cell_type": "code",
   "execution_count": 0,
   "metadata": {
    "colab": {
     "autoexec": {
      "startup": false,
      "wait_interval": 0
     }
    },
    "colab_type": "code",
    "id": "NKgLAi1gqe16"
   },
   "outputs": [],
   "source": [
    "def grayscale_image(img_rc):\n",
    "    return cv2.cvtColor(img_rc,cv2.COLOR_BGR2GRAY)"
   ]
  },
  {
   "cell_type": "code",
   "execution_count": 0,
   "metadata": {
    "colab": {
     "autoexec": {
      "startup": false,
      "wait_interval": 0
     }
    },
    "colab_type": "code",
    "id": "TNFcM8Vvqe2C"
   },
   "outputs": [],
   "source": [
    "def clahe_image(img):\n",
    "    clahe = cv2.createCLAHE()\n",
    "    return clahe.apply(img)"
   ]
  },
  {
   "cell_type": "code",
   "execution_count": 0,
   "metadata": {
    "colab": {
     "autoexec": {
      "startup": false,
      "wait_interval": 0
     }
    },
    "colab_type": "code",
    "id": "sV1I4d0tqe2K"
   },
   "outputs": [],
   "source": [
    "def identify_objects(image_dir):\n",
    "\n",
    "    for f in os.listdir(image_dir):\n",
    "        fn, fext = os.path.splitext(f)\n",
    "        fname = image_dir + f\n",
    "        \n",
    "\n",
    "        if fext in image_extension:\n",
    "            \n",
    "            try:\n",
    "                img_rc = io.imread(fname)\n",
    "                img_g = grayscale_image(img_rc)\n",
    "                plt.figure(figsize=(16,16))\n",
    "                plt.subplot(121), plt.imshow(img_rc), plt.title('original')\n",
    "                plt.subplot(122), plt.imshow(img_g, cmap ='gray'), plt.title('grayscale')\n",
    "                plt.show()\n",
    "                change_colour_object(img_rc)\n",
    "\n",
    "\n",
    "            except Exception:\n",
    "                pass\n",
    "    return"
   ]
  },
  {
   "cell_type": "code",
   "execution_count": 0,
   "metadata": {
    "colab": {
     "autoexec": {
      "startup": false,
      "wait_interval": 0
     }
    },
    "colab_type": "code",
    "id": "WQc5fwHYqe2S"
   },
   "outputs": [],
   "source": [
    "# identify_objects(image_dir)"
   ]
  },
  {
   "cell_type": "code",
   "execution_count": 0,
   "metadata": {
    "colab": {
     "autoexec": {
      "startup": false,
      "wait_interval": 0
     }
    },
    "colab_type": "code",
    "id": "mg7wX0f6qe2X",
    "outputId": "8e5e8aae-5130-446e-8b63-21af0d115b0b"
   },
   "outputs": [
    {
     "data": {
      "text/plain": [
       "'3.6.4 |Anaconda custom (64-bit)| (default, Jan 16 2018, 18:10:19) \\n[GCC 7.2.0]'"
      ]
     },
     "execution_count": 26,
     "metadata": {
      "tags": []
     },
     "output_type": "execute_result"
    }
   ],
   "source": [
    "sys.version"
   ]
  },
  {
   "cell_type": "code",
   "execution_count": 0,
   "metadata": {
    "colab": {
     "autoexec": {
      "startup": false,
      "wait_interval": 0
     }
    },
    "colab_type": "code",
    "id": "i4yymBcLqe2i"
   },
   "outputs": [],
   "source": [
    "def change_colour_object(img_rc):\n",
    "    kernel = np.ones((5,5),np.uint8)\n",
    "#     plt.imshow(img_rc)\n",
    "#     plt.show()\n",
    "\n",
    "    blurred = cv2.pyrMeanShiftFiltering(img_rc, 5,5)\n",
    "    hsv = cv2.cvtColor(blurred, cv2.COLOR_BGR2HSV)\n",
    "\n",
    "#     lower_range = np.array([40, 100, 50])\n",
    "#     upper_range = np.array([80, 255, 255])\n",
    "    # banana green\n",
    "#     lower_range = np.array([65, 60, 60])\n",
    "#     upper_range = np.array([80, 255, 255])\n",
    "    # dark green\n",
    "#     lower_range = np.array([0, 0, 20])\n",
    "#     upper_range = np.array([50, 128, 100])\n",
    "\n",
    "\n",
    "    lower_range = np.array([0, 0, 20])\n",
    "    upper_range = np.array([50, 128, 100])\n",
    "    mask = cv2.inRange(hsv, lower_range, upper_range)\n",
    "\n",
    "    dilation = cv2.dilate(mask,kernel,iterations = 1)\n",
    "\n",
    "    closing = cv2.morphologyEx(dilation, cv2.MORPH_GRADIENT, kernel)\n",
    "    closing = cv2.morphologyEx(dilation, cv2.MORPH_CLOSE, kernel)\n",
    "\n",
    "    #Getting the edge of morphology\n",
    "    edge = cv2.Canny(closing, 7, 7)\n",
    "    im3, contours, hierarch = cv2.findContours(edge, cv2.RETR_TREE, cv2.CHAIN_APPROX_SIMPLE)\n",
    "\n",
    "    # Find the index of the largest contour\n",
    "    areas = [cv2.contourArea(c) for c in contours]\n",
    "#     print(areas)\n",
    "    max_index = np.argmax(areas)\n",
    "    cnt_max=contours[max_index]\n",
    "\n",
    "    xc,yc,wc,hc = cv2.boundingRect(cnt_max)\n",
    "    rctc = cv2.rectangle(img_rc,(xc,yc),(xc+wc,yc+hc),(0,0,0),0)\n",
    "    imggc = img_rc[yc:yc+hc,xc:xc+wc]\n",
    "    plt.figure(figsize=(16,16))\n",
    "    plt.subplot(121),plt.imshow(img_rc)\n",
    "    plt.subplot(122),plt.imshow(imggc)\n",
    "    plt.show()\n",
    "    areas = np.array(areas)\n",
    "    cnt = 0\n",
    "    for i in areas:\n",
    "#         print(areas[cnt])\n",
    "        a_index = np.array(cnt)\n",
    "        a_cnt=contours[a_index]\n",
    "        x,y,w,h = cv2.boundingRect(a_cnt)\n",
    "        rct = cv2.rectangle(img_rc,(x,y),(x+w,y+h),(0,255,255),2)\n",
    "        imgg = img_rc[np.where((img_rc==[0,0,0]).all(axis=2))]=[0,33,166]\n",
    "        plt.imshow(imgg, cmap='gray')\n",
    "        plt.show()\n",
    "        cnt += 1\n",
    "    return "
   ]
  },
  {
   "cell_type": "code",
   "execution_count": 0,
   "metadata": {
    "colab": {
     "autoexec": {
      "startup": false,
      "wait_interval": 0
     }
    },
    "colab_type": "code",
    "id": "a_CxHUvPqe2o"
   },
   "outputs": [],
   "source": [
    "def threshold3(img_g):\n",
    "    ret,thresh1 = cv2.threshold(img_g,127,255,cv2.THRESH_BINARY)\n",
    "    ret,thresh2 = cv2.threshold(img_g,127,255,cv2.THRESH_BINARY_INV)\n",
    "    ret,thresh3 = cv2.threshold(img_g,127,255,cv2.THRESH_TRUNC)\n",
    "    ret,thresh4 = cv2.threshold(img_g,127,255,cv2.THRESH_TOZERO)\n",
    "    ret,thresh5 = cv2.threshold(img_g,127,255,cv2.THRESH_TOZERO_INV)\n",
    "\n",
    "    titles = ['Original Image','BINARY','BINARY_INV','TRUNC','TOZERO','TOZERO_INV']\n",
    "    imag = [img_g, thresh1, thresh2, thresh3, thresh4, thresh5]\n",
    "\n",
    "    i = 0\n",
    "    plt.figure(figsize=(16,16))\n",
    "    for x in imag:\n",
    "\n",
    "        plt.subplot(2,3,i+1),plt.imshow(imag[i],cmap='gray')\n",
    "        plt.title(titles[i])\n",
    "        plt.xticks([]),plt.yticks([])\n",
    "        i += 1\n",
    "    plt.show()\n",
    "    return"
   ]
  },
  {
   "cell_type": "code",
   "execution_count": 0,
   "metadata": {
    "colab": {
     "autoexec": {
      "startup": false,
      "wait_interval": 0
     }
    },
    "colab_type": "code",
    "id": "F48UADWlqe2r"
   },
   "outputs": [],
   "source": []
  }
 ],
 "metadata": {
  "colab": {
   "collapsed_sections": [],
   "default_view": {},
   "name": "ObjectDetection-Copy1.ipynb",
   "provenance": [],
   "version": "0.3.2",
   "views": {}
  },
  "kernelspec": {
   "display_name": "Python [conda env:imageRecognition]",
   "language": "python",
   "name": "conda-env-imageRecognition-py"
  },
  "language_info": {
   "codemirror_mode": {
    "name": "ipython",
    "version": 2
   },
   "file_extension": ".py",
   "mimetype": "text/x-python",
   "name": "python",
   "nbconvert_exporter": "python",
   "pygments_lexer": "ipython2",
   "version": "2.7.15"
  },
  "widgets": {
   "state": {},
   "version": "1.1.2"
  }
 },
 "nbformat": 4,
 "nbformat_minor": 1
}
