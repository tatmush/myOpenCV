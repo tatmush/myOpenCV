{
 "cells": [
  {
   "cell_type": "code",
   "execution_count": 3,
   "metadata": {},
   "outputs": [],
   "source": [
    "#Object detection\n",
    "import cv2\n",
    "#from matplotlib import pyplot as plt"
   ]
  },
  {
   "cell_type": "code",
   "execution_count": null,
   "metadata": {},
   "outputs": [],
   "source": [
    "def detectImage(image):\n",
    "    #variable for measuring the speed of the function\n",
    "    e1=cv2.getTickCount()\n",
    "    #reading the image\n",
    "    img=cv2.imread(image)\n",
    "    #canny library is used to identify edges in an picture\n",
    "    edges=cv2.Canny(img,100,200)\n",
    "    \n",
    "    #display using mapplotlib\n",
    "    '''plt.subplot(121), plt.imshow(img, cmap='gray')\n",
    "    plt.title('Original Image'), plt.xticks([]), plt.yticks([])\n",
    "    plt.subplot(122), plt.imshow(edges, cmap='gray')\n",
    "    plt.title('Edge Image'), plt.xticks([]), plt.yticks([])'''\n",
    "    cv2.imshow(img)\n",
    "    cv2.imshow(edges)\n",
    "    cv2.destroyAllWindows()"
   ]
  }
 ],
 "metadata": {
  "kernelspec": {
   "display_name": "Python [conda env:imageRecognition]",
   "language": "python",
   "name": "conda-env-imageRecognition-py"
  },
  "language_info": {
   "codemirror_mode": {
    "name": "ipython",
    "version": 2
   },
   "file_extension": ".py",
   "mimetype": "text/x-python",
   "name": "python",
   "nbconvert_exporter": "python",
   "pygments_lexer": "ipython2",
   "version": "2.7.15"
  },
  "widgets": {
   "state": {},
   "version": "1.1.2"
  }
 },
 "nbformat": 4,
 "nbformat_minor": 2
}
